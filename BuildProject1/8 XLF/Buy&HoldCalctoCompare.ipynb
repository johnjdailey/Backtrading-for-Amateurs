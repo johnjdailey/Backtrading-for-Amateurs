{
 "cells": [
  {
   "cell_type": "code",
   "execution_count": 1,
   "metadata": {},
   "outputs": [
    {
     "data": {
      "text/html": [
       "<div>\n",
       "<style scoped>\n",
       "    .dataframe tbody tr th:only-of-type {\n",
       "        vertical-align: middle;\n",
       "    }\n",
       "\n",
       "    .dataframe tbody tr th {\n",
       "        vertical-align: top;\n",
       "    }\n",
       "\n",
       "    .dataframe thead th {\n",
       "        text-align: right;\n",
       "    }\n",
       "</style>\n",
       "<table border=\"1\" class=\"dataframe\">\n",
       "  <thead>\n",
       "    <tr style=\"text-align: right;\">\n",
       "      <th></th>\n",
       "      <th>Date</th>\n",
       "      <th>Open</th>\n",
       "      <th>High</th>\n",
       "      <th>Low</th>\n",
       "      <th>Close</th>\n",
       "      <th>Adj Close</th>\n",
       "      <th>Volume</th>\n",
       "    </tr>\n",
       "  </thead>\n",
       "  <tbody>\n",
       "    <tr>\n",
       "      <td>0</td>\n",
       "      <td>2019-02-27</td>\n",
       "      <td>26.440001</td>\n",
       "      <td>26.639999</td>\n",
       "      <td>26.410000</td>\n",
       "      <td>26.590000</td>\n",
       "      <td>26.054697</td>\n",
       "      <td>42542400</td>\n",
       "    </tr>\n",
       "    <tr>\n",
       "      <td>1</td>\n",
       "      <td>2019-02-28</td>\n",
       "      <td>26.600000</td>\n",
       "      <td>26.650000</td>\n",
       "      <td>26.510000</td>\n",
       "      <td>26.520000</td>\n",
       "      <td>25.986107</td>\n",
       "      <td>39835900</td>\n",
       "    </tr>\n",
       "    <tr>\n",
       "      <td>2</td>\n",
       "      <td>2019-03-01</td>\n",
       "      <td>26.750000</td>\n",
       "      <td>26.940001</td>\n",
       "      <td>26.610001</td>\n",
       "      <td>26.690001</td>\n",
       "      <td>26.152683</td>\n",
       "      <td>82657300</td>\n",
       "    </tr>\n",
       "    <tr>\n",
       "      <td>3</td>\n",
       "      <td>2019-03-04</td>\n",
       "      <td>26.760000</td>\n",
       "      <td>26.940001</td>\n",
       "      <td>26.299999</td>\n",
       "      <td>26.520000</td>\n",
       "      <td>25.986107</td>\n",
       "      <td>76611900</td>\n",
       "    </tr>\n",
       "    <tr>\n",
       "      <td>4</td>\n",
       "      <td>2019-03-05</td>\n",
       "      <td>26.570000</td>\n",
       "      <td>26.580000</td>\n",
       "      <td>26.219999</td>\n",
       "      <td>26.420000</td>\n",
       "      <td>25.888119</td>\n",
       "      <td>39868100</td>\n",
       "    </tr>\n",
       "    <tr>\n",
       "      <td>...</td>\n",
       "      <td>...</td>\n",
       "      <td>...</td>\n",
       "      <td>...</td>\n",
       "      <td>...</td>\n",
       "      <td>...</td>\n",
       "      <td>...</td>\n",
       "      <td>...</td>\n",
       "    </tr>\n",
       "    <tr>\n",
       "      <td>247</td>\n",
       "      <td>2020-02-20</td>\n",
       "      <td>31.020000</td>\n",
       "      <td>31.280001</td>\n",
       "      <td>30.860001</td>\n",
       "      <td>31.070000</td>\n",
       "      <td>31.070000</td>\n",
       "      <td>50344300</td>\n",
       "    </tr>\n",
       "    <tr>\n",
       "      <td>248</td>\n",
       "      <td>2020-02-21</td>\n",
       "      <td>30.920000</td>\n",
       "      <td>30.990000</td>\n",
       "      <td>30.600000</td>\n",
       "      <td>30.770000</td>\n",
       "      <td>30.770000</td>\n",
       "      <td>51128200</td>\n",
       "    </tr>\n",
       "    <tr>\n",
       "      <td>249</td>\n",
       "      <td>2020-02-24</td>\n",
       "      <td>29.799999</td>\n",
       "      <td>30.059999</td>\n",
       "      <td>29.629999</td>\n",
       "      <td>29.770000</td>\n",
       "      <td>29.770000</td>\n",
       "      <td>70455400</td>\n",
       "    </tr>\n",
       "    <tr>\n",
       "      <td>250</td>\n",
       "      <td>2020-02-25</td>\n",
       "      <td>29.780001</td>\n",
       "      <td>29.840000</td>\n",
       "      <td>28.620001</td>\n",
       "      <td>28.760000</td>\n",
       "      <td>28.760000</td>\n",
       "      <td>111826900</td>\n",
       "    </tr>\n",
       "    <tr>\n",
       "      <td>251</td>\n",
       "      <td>2020-02-26</td>\n",
       "      <td>28.950001</td>\n",
       "      <td>29.219999</td>\n",
       "      <td>28.549999</td>\n",
       "      <td>28.549999</td>\n",
       "      <td>28.549999</td>\n",
       "      <td>94970600</td>\n",
       "    </tr>\n",
       "  </tbody>\n",
       "</table>\n",
       "<p>252 rows × 7 columns</p>\n",
       "</div>"
      ],
      "text/plain": [
       "           Date       Open       High        Low      Close  Adj Close  \\\n",
       "0    2019-02-27  26.440001  26.639999  26.410000  26.590000  26.054697   \n",
       "1    2019-02-28  26.600000  26.650000  26.510000  26.520000  25.986107   \n",
       "2    2019-03-01  26.750000  26.940001  26.610001  26.690001  26.152683   \n",
       "3    2019-03-04  26.760000  26.940001  26.299999  26.520000  25.986107   \n",
       "4    2019-03-05  26.570000  26.580000  26.219999  26.420000  25.888119   \n",
       "..          ...        ...        ...        ...        ...        ...   \n",
       "247  2020-02-20  31.020000  31.280001  30.860001  31.070000  31.070000   \n",
       "248  2020-02-21  30.920000  30.990000  30.600000  30.770000  30.770000   \n",
       "249  2020-02-24  29.799999  30.059999  29.629999  29.770000  29.770000   \n",
       "250  2020-02-25  29.780001  29.840000  28.620001  28.760000  28.760000   \n",
       "251  2020-02-26  28.950001  29.219999  28.549999  28.549999  28.549999   \n",
       "\n",
       "        Volume  \n",
       "0     42542400  \n",
       "1     39835900  \n",
       "2     82657300  \n",
       "3     76611900  \n",
       "4     39868100  \n",
       "..         ...  \n",
       "247   50344300  \n",
       "248   51128200  \n",
       "249   70455400  \n",
       "250  111826900  \n",
       "251   94970600  \n",
       "\n",
       "[252 rows x 7 columns]"
      ]
     },
     "execution_count": 1,
     "metadata": {},
     "output_type": "execute_result"
    }
   ],
   "source": [
    "import pandas as pd\n",
    "pd.read_csv(\"XLF.csv\")"
   ]
  },
  {
   "cell_type": "code",
   "execution_count": 2,
   "metadata": {},
   "outputs": [
    {
     "data": {
      "text/plain": [
       "37608.1233546446"
      ]
     },
     "execution_count": 2,
     "metadata": {},
     "output_type": "execute_result"
    }
   ],
   "source": [
    "1000000/26.590000"
   ]
  },
  {
   "cell_type": "code",
   "execution_count": 3,
   "metadata": {},
   "outputs": [
    {
     "data": {
      "text/plain": [
       "3.2799999999139997"
      ]
     },
     "execution_count": 3,
     "metadata": {},
     "output_type": "execute_result"
    }
   ],
   "source": [
    ".1233546446*26.590000"
   ]
  },
  {
   "cell_type": "code",
   "execution_count": 4,
   "metadata": {},
   "outputs": [],
   "source": [
    "# 37608 shares of XLF bought on 2019-02-27 with $3.2799999999139997 remaining"
   ]
  },
  {
   "cell_type": "code",
   "execution_count": 5,
   "metadata": {},
   "outputs": [
    {
     "data": {
      "text/plain": [
       "1073711.642392"
      ]
     },
     "execution_count": 5,
     "metadata": {},
     "output_type": "execute_result"
    }
   ],
   "source": [
    "37608*28.549999+3.2799999999139997"
   ]
  },
  {
   "cell_type": "code",
   "execution_count": null,
   "metadata": {},
   "outputs": [],
   "source": [
    "# 1073711 after selling on 2020-02-26"
   ]
  }
 ],
 "metadata": {
  "kernelspec": {
   "display_name": "Python 3",
   "language": "python",
   "name": "python3"
  },
  "language_info": {
   "codemirror_mode": {
    "name": "ipython",
    "version": 3
   },
   "file_extension": ".py",
   "mimetype": "text/x-python",
   "name": "python",
   "nbconvert_exporter": "python",
   "pygments_lexer": "ipython3",
   "version": "3.7.4"
  }
 },
 "nbformat": 4,
 "nbformat_minor": 2
}
