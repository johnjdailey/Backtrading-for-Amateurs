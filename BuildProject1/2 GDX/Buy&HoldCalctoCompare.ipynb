{
 "cells": [
  {
   "cell_type": "code",
   "execution_count": 1,
   "metadata": {},
   "outputs": [
    {
     "data": {
      "text/html": [
       "<div>\n",
       "<style scoped>\n",
       "    .dataframe tbody tr th:only-of-type {\n",
       "        vertical-align: middle;\n",
       "    }\n",
       "\n",
       "    .dataframe tbody tr th {\n",
       "        vertical-align: top;\n",
       "    }\n",
       "\n",
       "    .dataframe thead th {\n",
       "        text-align: right;\n",
       "    }\n",
       "</style>\n",
       "<table border=\"1\" class=\"dataframe\">\n",
       "  <thead>\n",
       "    <tr style=\"text-align: right;\">\n",
       "      <th></th>\n",
       "      <th>Date</th>\n",
       "      <th>Open</th>\n",
       "      <th>High</th>\n",
       "      <th>Low</th>\n",
       "      <th>Close</th>\n",
       "      <th>Adj Close</th>\n",
       "      <th>Volume</th>\n",
       "    </tr>\n",
       "  </thead>\n",
       "  <tbody>\n",
       "    <tr>\n",
       "      <td>0</td>\n",
       "      <td>2019-02-27</td>\n",
       "      <td>22.600000</td>\n",
       "      <td>22.680000</td>\n",
       "      <td>22.200001</td>\n",
       "      <td>22.350000</td>\n",
       "      <td>22.192652</td>\n",
       "      <td>49023500</td>\n",
       "    </tr>\n",
       "    <tr>\n",
       "      <td>1</td>\n",
       "      <td>2019-02-28</td>\n",
       "      <td>22.360001</td>\n",
       "      <td>22.360001</td>\n",
       "      <td>22.160000</td>\n",
       "      <td>22.240000</td>\n",
       "      <td>22.083426</td>\n",
       "      <td>32776800</td>\n",
       "    </tr>\n",
       "    <tr>\n",
       "      <td>2</td>\n",
       "      <td>2019-03-01</td>\n",
       "      <td>22.059999</td>\n",
       "      <td>22.320000</td>\n",
       "      <td>21.690001</td>\n",
       "      <td>21.700001</td>\n",
       "      <td>21.547228</td>\n",
       "      <td>78919200</td>\n",
       "    </tr>\n",
       "    <tr>\n",
       "      <td>3</td>\n",
       "      <td>2019-03-04</td>\n",
       "      <td>21.559999</td>\n",
       "      <td>21.860001</td>\n",
       "      <td>21.400000</td>\n",
       "      <td>21.850000</td>\n",
       "      <td>21.696173</td>\n",
       "      <td>55000900</td>\n",
       "    </tr>\n",
       "    <tr>\n",
       "      <td>4</td>\n",
       "      <td>2019-03-05</td>\n",
       "      <td>21.770000</td>\n",
       "      <td>21.969999</td>\n",
       "      <td>21.680000</td>\n",
       "      <td>21.969999</td>\n",
       "      <td>21.815327</td>\n",
       "      <td>30417100</td>\n",
       "    </tr>\n",
       "    <tr>\n",
       "      <td>...</td>\n",
       "      <td>...</td>\n",
       "      <td>...</td>\n",
       "      <td>...</td>\n",
       "      <td>...</td>\n",
       "      <td>...</td>\n",
       "      <td>...</td>\n",
       "      <td>...</td>\n",
       "    </tr>\n",
       "    <tr>\n",
       "      <td>247</td>\n",
       "      <td>2020-02-20</td>\n",
       "      <td>29.660000</td>\n",
       "      <td>30.100000</td>\n",
       "      <td>29.500000</td>\n",
       "      <td>29.750000</td>\n",
       "      <td>29.750000</td>\n",
       "      <td>52313900</td>\n",
       "    </tr>\n",
       "    <tr>\n",
       "      <td>248</td>\n",
       "      <td>2020-02-21</td>\n",
       "      <td>30.270000</td>\n",
       "      <td>30.709999</td>\n",
       "      <td>30.180000</td>\n",
       "      <td>30.650000</td>\n",
       "      <td>30.650000</td>\n",
       "      <td>76564200</td>\n",
       "    </tr>\n",
       "    <tr>\n",
       "      <td>249</td>\n",
       "      <td>2020-02-24</td>\n",
       "      <td>31.760000</td>\n",
       "      <td>31.840000</td>\n",
       "      <td>30.660000</td>\n",
       "      <td>31.049999</td>\n",
       "      <td>31.049999</td>\n",
       "      <td>87112400</td>\n",
       "    </tr>\n",
       "    <tr>\n",
       "      <td>250</td>\n",
       "      <td>2020-02-25</td>\n",
       "      <td>30.480000</td>\n",
       "      <td>31.160000</td>\n",
       "      <td>29.910000</td>\n",
       "      <td>29.969999</td>\n",
       "      <td>29.969999</td>\n",
       "      <td>91165500</td>\n",
       "    </tr>\n",
       "    <tr>\n",
       "      <td>251</td>\n",
       "      <td>2020-02-26</td>\n",
       "      <td>29.900000</td>\n",
       "      <td>30.280001</td>\n",
       "      <td>29.670000</td>\n",
       "      <td>29.870001</td>\n",
       "      <td>29.870001</td>\n",
       "      <td>49317800</td>\n",
       "    </tr>\n",
       "  </tbody>\n",
       "</table>\n",
       "<p>252 rows × 7 columns</p>\n",
       "</div>"
      ],
      "text/plain": [
       "           Date       Open       High        Low      Close  Adj Close  \\\n",
       "0    2019-02-27  22.600000  22.680000  22.200001  22.350000  22.192652   \n",
       "1    2019-02-28  22.360001  22.360001  22.160000  22.240000  22.083426   \n",
       "2    2019-03-01  22.059999  22.320000  21.690001  21.700001  21.547228   \n",
       "3    2019-03-04  21.559999  21.860001  21.400000  21.850000  21.696173   \n",
       "4    2019-03-05  21.770000  21.969999  21.680000  21.969999  21.815327   \n",
       "..          ...        ...        ...        ...        ...        ...   \n",
       "247  2020-02-20  29.660000  30.100000  29.500000  29.750000  29.750000   \n",
       "248  2020-02-21  30.270000  30.709999  30.180000  30.650000  30.650000   \n",
       "249  2020-02-24  31.760000  31.840000  30.660000  31.049999  31.049999   \n",
       "250  2020-02-25  30.480000  31.160000  29.910000  29.969999  29.969999   \n",
       "251  2020-02-26  29.900000  30.280001  29.670000  29.870001  29.870001   \n",
       "\n",
       "       Volume  \n",
       "0    49023500  \n",
       "1    32776800  \n",
       "2    78919200  \n",
       "3    55000900  \n",
       "4    30417100  \n",
       "..        ...  \n",
       "247  52313900  \n",
       "248  76564200  \n",
       "249  87112400  \n",
       "250  91165500  \n",
       "251  49317800  \n",
       "\n",
       "[252 rows x 7 columns]"
      ]
     },
     "execution_count": 1,
     "metadata": {},
     "output_type": "execute_result"
    }
   ],
   "source": [
    "import pandas as pd\n",
    "pd.read_csv(\"GDX.csv\")"
   ]
  },
  {
   "cell_type": "code",
   "execution_count": 2,
   "metadata": {},
   "outputs": [
    {
     "data": {
      "text/plain": [
       "44742.729306487694"
      ]
     },
     "execution_count": 2,
     "metadata": {},
     "output_type": "execute_result"
    }
   ],
   "source": [
    "1000000/22.35"
   ]
  },
  {
   "cell_type": "code",
   "execution_count": 3,
   "metadata": {},
   "outputs": [
    {
     "data": {
      "text/plain": [
       "16.2999999999609"
      ]
     },
     "execution_count": 3,
     "metadata": {},
     "output_type": "execute_result"
    }
   ],
   "source": [
    ".729306487694*22.35"
   ]
  },
  {
   "cell_type": "code",
   "execution_count": 4,
   "metadata": {},
   "outputs": [],
   "source": [
    "# 44742 shares of GDX bought on 2019-02-27 with $16.2999999999609 remaining."
   ]
  },
  {
   "cell_type": "code",
   "execution_count": 5,
   "metadata": {},
   "outputs": [
    {
     "data": {
      "text/plain": [
       "1336459.884742"
      ]
     },
     "execution_count": 5,
     "metadata": {},
     "output_type": "execute_result"
    }
   ],
   "source": [
    "44742*29.870001 + 16.2999999999609"
   ]
  },
  {
   "cell_type": "code",
   "execution_count": null,
   "metadata": {},
   "outputs": [],
   "source": [
    "# 1336459.884742 after selling on 2020-02-26"
   ]
  }
 ],
 "metadata": {
  "kernelspec": {
   "display_name": "Python 3",
   "language": "python",
   "name": "python3"
  },
  "language_info": {
   "codemirror_mode": {
    "name": "ipython",
    "version": 3
   },
   "file_extension": ".py",
   "mimetype": "text/x-python",
   "name": "python",
   "nbconvert_exporter": "python",
   "pygments_lexer": "ipython3",
   "version": "3.7.4"
  }
 },
 "nbformat": 4,
 "nbformat_minor": 2
}
