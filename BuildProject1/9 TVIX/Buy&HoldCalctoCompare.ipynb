{
 "cells": [
  {
   "cell_type": "code",
   "execution_count": 1,
   "metadata": {},
   "outputs": [
    {
     "data": {
      "text/html": [
       "<div>\n",
       "<style scoped>\n",
       "    .dataframe tbody tr th:only-of-type {\n",
       "        vertical-align: middle;\n",
       "    }\n",
       "\n",
       "    .dataframe tbody tr th {\n",
       "        vertical-align: top;\n",
       "    }\n",
       "\n",
       "    .dataframe thead th {\n",
       "        text-align: right;\n",
       "    }\n",
       "</style>\n",
       "<table border=\"1\" class=\"dataframe\">\n",
       "  <thead>\n",
       "    <tr style=\"text-align: right;\">\n",
       "      <th></th>\n",
       "      <th>Date</th>\n",
       "      <th>Open</th>\n",
       "      <th>High</th>\n",
       "      <th>Low</th>\n",
       "      <th>Close</th>\n",
       "      <th>Adj Close</th>\n",
       "      <th>Volume</th>\n",
       "    </tr>\n",
       "  </thead>\n",
       "  <tbody>\n",
       "    <tr>\n",
       "      <td>0</td>\n",
       "      <td>2019-02-27</td>\n",
       "      <td>312.700012</td>\n",
       "      <td>329.000000</td>\n",
       "      <td>303.200012</td>\n",
       "      <td>307.799988</td>\n",
       "      <td>307.799988</td>\n",
       "      <td>1592900</td>\n",
       "    </tr>\n",
       "    <tr>\n",
       "      <td>1</td>\n",
       "      <td>2019-02-28</td>\n",
       "      <td>308.200012</td>\n",
       "      <td>310.200012</td>\n",
       "      <td>297.200012</td>\n",
       "      <td>306.299988</td>\n",
       "      <td>306.299988</td>\n",
       "      <td>1111800</td>\n",
       "    </tr>\n",
       "    <tr>\n",
       "      <td>2</td>\n",
       "      <td>2019-03-01</td>\n",
       "      <td>291.600006</td>\n",
       "      <td>302.700012</td>\n",
       "      <td>282.000000</td>\n",
       "      <td>282.200012</td>\n",
       "      <td>282.200012</td>\n",
       "      <td>1363700</td>\n",
       "    </tr>\n",
       "    <tr>\n",
       "      <td>3</td>\n",
       "      <td>2019-03-04</td>\n",
       "      <td>275.899994</td>\n",
       "      <td>320.899994</td>\n",
       "      <td>269.299988</td>\n",
       "      <td>293.700012</td>\n",
       "      <td>293.700012</td>\n",
       "      <td>2805300</td>\n",
       "    </tr>\n",
       "    <tr>\n",
       "      <td>4</td>\n",
       "      <td>2019-03-05</td>\n",
       "      <td>292.299988</td>\n",
       "      <td>306.000000</td>\n",
       "      <td>290.100006</td>\n",
       "      <td>296.000000</td>\n",
       "      <td>296.000000</td>\n",
       "      <td>1505200</td>\n",
       "    </tr>\n",
       "    <tr>\n",
       "      <td>...</td>\n",
       "      <td>...</td>\n",
       "      <td>...</td>\n",
       "      <td>...</td>\n",
       "      <td>...</td>\n",
       "      <td>...</td>\n",
       "      <td>...</td>\n",
       "      <td>...</td>\n",
       "    </tr>\n",
       "    <tr>\n",
       "      <td>247</td>\n",
       "      <td>2020-02-20</td>\n",
       "      <td>39.529999</td>\n",
       "      <td>44.360001</td>\n",
       "      <td>38.919998</td>\n",
       "      <td>41.730000</td>\n",
       "      <td>41.730000</td>\n",
       "      <td>20067700</td>\n",
       "    </tr>\n",
       "    <tr>\n",
       "      <td>248</td>\n",
       "      <td>2020-02-21</td>\n",
       "      <td>44.320000</td>\n",
       "      <td>49.299999</td>\n",
       "      <td>43.599998</td>\n",
       "      <td>46.799999</td>\n",
       "      <td>46.799999</td>\n",
       "      <td>22922400</td>\n",
       "    </tr>\n",
       "    <tr>\n",
       "      <td>249</td>\n",
       "      <td>2020-02-24</td>\n",
       "      <td>60.910000</td>\n",
       "      <td>64.620003</td>\n",
       "      <td>55.950001</td>\n",
       "      <td>64.139999</td>\n",
       "      <td>64.139999</td>\n",
       "      <td>28291800</td>\n",
       "    </tr>\n",
       "    <tr>\n",
       "      <td>250</td>\n",
       "      <td>2020-02-25</td>\n",
       "      <td>60.049999</td>\n",
       "      <td>80.000000</td>\n",
       "      <td>59.119999</td>\n",
       "      <td>76.430000</td>\n",
       "      <td>76.430000</td>\n",
       "      <td>33225400</td>\n",
       "    </tr>\n",
       "    <tr>\n",
       "      <td>251</td>\n",
       "      <td>2020-02-26</td>\n",
       "      <td>71.699997</td>\n",
       "      <td>78.940002</td>\n",
       "      <td>66.690002</td>\n",
       "      <td>73.070000</td>\n",
       "      <td>73.070000</td>\n",
       "      <td>24800400</td>\n",
       "    </tr>\n",
       "  </tbody>\n",
       "</table>\n",
       "<p>252 rows × 7 columns</p>\n",
       "</div>"
      ],
      "text/plain": [
       "           Date        Open        High         Low       Close   Adj Close  \\\n",
       "0    2019-02-27  312.700012  329.000000  303.200012  307.799988  307.799988   \n",
       "1    2019-02-28  308.200012  310.200012  297.200012  306.299988  306.299988   \n",
       "2    2019-03-01  291.600006  302.700012  282.000000  282.200012  282.200012   \n",
       "3    2019-03-04  275.899994  320.899994  269.299988  293.700012  293.700012   \n",
       "4    2019-03-05  292.299988  306.000000  290.100006  296.000000  296.000000   \n",
       "..          ...         ...         ...         ...         ...         ...   \n",
       "247  2020-02-20   39.529999   44.360001   38.919998   41.730000   41.730000   \n",
       "248  2020-02-21   44.320000   49.299999   43.599998   46.799999   46.799999   \n",
       "249  2020-02-24   60.910000   64.620003   55.950001   64.139999   64.139999   \n",
       "250  2020-02-25   60.049999   80.000000   59.119999   76.430000   76.430000   \n",
       "251  2020-02-26   71.699997   78.940002   66.690002   73.070000   73.070000   \n",
       "\n",
       "       Volume  \n",
       "0     1592900  \n",
       "1     1111800  \n",
       "2     1363700  \n",
       "3     2805300  \n",
       "4     1505200  \n",
       "..        ...  \n",
       "247  20067700  \n",
       "248  22922400  \n",
       "249  28291800  \n",
       "250  33225400  \n",
       "251  24800400  \n",
       "\n",
       "[252 rows x 7 columns]"
      ]
     },
     "execution_count": 1,
     "metadata": {},
     "output_type": "execute_result"
    }
   ],
   "source": [
    "import pandas as pd\n",
    "pd.read_csv(\"TVIX.csv\")"
   ]
  },
  {
   "cell_type": "code",
   "execution_count": 2,
   "metadata": {},
   "outputs": [
    {
     "data": {
      "text/plain": [
       "3248.8630246470316"
      ]
     },
     "execution_count": 2,
     "metadata": {},
     "output_type": "execute_result"
    }
   ],
   "source": [
    "1000000/307.799988"
   ]
  },
  {
   "cell_type": "code",
   "execution_count": 3,
   "metadata": {},
   "outputs": [
    {
     "data": {
      "text/plain": [
       "265.6389760000307"
      ]
     },
     "execution_count": 3,
     "metadata": {},
     "output_type": "execute_result"
    }
   ],
   "source": [
    ".8630246470316*307.799988"
   ]
  },
  {
   "cell_type": "code",
   "execution_count": 4,
   "metadata": {},
   "outputs": [],
   "source": [
    "# 3248 shared of TVIX were bought on 2019-02-27 with $ 265.6389760000307 remaining"
   ]
  },
  {
   "cell_type": "code",
   "execution_count": 5,
   "metadata": {},
   "outputs": [
    {
     "data": {
      "text/plain": [
       "237596.998976"
      ]
     },
     "execution_count": 5,
     "metadata": {},
     "output_type": "execute_result"
    }
   ],
   "source": [
    "3248*73.070000+265.6389760000307"
   ]
  },
  {
   "cell_type": "code",
   "execution_count": null,
   "metadata": {},
   "outputs": [],
   "source": [
    "# 237596 after selling on 2020-02-26"
   ]
  }
 ],
 "metadata": {
  "kernelspec": {
   "display_name": "Python 3",
   "language": "python",
   "name": "python3"
  },
  "language_info": {
   "codemirror_mode": {
    "name": "ipython",
    "version": 3
   },
   "file_extension": ".py",
   "mimetype": "text/x-python",
   "name": "python",
   "nbconvert_exporter": "python",
   "pygments_lexer": "ipython3",
   "version": "3.7.4"
  }
 },
 "nbformat": 4,
 "nbformat_minor": 2
}
