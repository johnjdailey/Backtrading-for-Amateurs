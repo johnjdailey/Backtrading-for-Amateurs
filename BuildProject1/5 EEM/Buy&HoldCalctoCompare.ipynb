{
 "cells": [
  {
   "cell_type": "code",
   "execution_count": 1,
   "metadata": {},
   "outputs": [
    {
     "data": {
      "text/html": [
       "<div>\n",
       "<style scoped>\n",
       "    .dataframe tbody tr th:only-of-type {\n",
       "        vertical-align: middle;\n",
       "    }\n",
       "\n",
       "    .dataframe tbody tr th {\n",
       "        vertical-align: top;\n",
       "    }\n",
       "\n",
       "    .dataframe thead th {\n",
       "        text-align: right;\n",
       "    }\n",
       "</style>\n",
       "<table border=\"1\" class=\"dataframe\">\n",
       "  <thead>\n",
       "    <tr style=\"text-align: right;\">\n",
       "      <th></th>\n",
       "      <th>Date</th>\n",
       "      <th>Open</th>\n",
       "      <th>High</th>\n",
       "      <th>Low</th>\n",
       "      <th>Close</th>\n",
       "      <th>Adj Close</th>\n",
       "      <th>Volume</th>\n",
       "    </tr>\n",
       "  </thead>\n",
       "  <tbody>\n",
       "    <tr>\n",
       "      <td>0</td>\n",
       "      <td>2019-02-27</td>\n",
       "      <td>43.090000</td>\n",
       "      <td>43.160000</td>\n",
       "      <td>42.849998</td>\n",
       "      <td>43.000000</td>\n",
       "      <td>41.782124</td>\n",
       "      <td>69471200</td>\n",
       "    </tr>\n",
       "    <tr>\n",
       "      <td>1</td>\n",
       "      <td>2019-02-28</td>\n",
       "      <td>42.720001</td>\n",
       "      <td>42.740002</td>\n",
       "      <td>42.439999</td>\n",
       "      <td>42.439999</td>\n",
       "      <td>41.237984</td>\n",
       "      <td>87434700</td>\n",
       "    </tr>\n",
       "    <tr>\n",
       "      <td>2</td>\n",
       "      <td>2019-03-01</td>\n",
       "      <td>42.779999</td>\n",
       "      <td>42.810001</td>\n",
       "      <td>42.410000</td>\n",
       "      <td>42.490002</td>\n",
       "      <td>41.286568</td>\n",
       "      <td>94263900</td>\n",
       "    </tr>\n",
       "    <tr>\n",
       "      <td>3</td>\n",
       "      <td>2019-03-04</td>\n",
       "      <td>42.720001</td>\n",
       "      <td>42.779999</td>\n",
       "      <td>42.180000</td>\n",
       "      <td>42.549999</td>\n",
       "      <td>41.344868</td>\n",
       "      <td>94168300</td>\n",
       "    </tr>\n",
       "    <tr>\n",
       "      <td>4</td>\n",
       "      <td>2019-03-05</td>\n",
       "      <td>42.750000</td>\n",
       "      <td>43.040001</td>\n",
       "      <td>42.660000</td>\n",
       "      <td>42.970001</td>\n",
       "      <td>41.752975</td>\n",
       "      <td>54576700</td>\n",
       "    </tr>\n",
       "    <tr>\n",
       "      <td>...</td>\n",
       "      <td>...</td>\n",
       "      <td>...</td>\n",
       "      <td>...</td>\n",
       "      <td>...</td>\n",
       "      <td>...</td>\n",
       "      <td>...</td>\n",
       "      <td>...</td>\n",
       "    </tr>\n",
       "    <tr>\n",
       "      <td>247</td>\n",
       "      <td>2020-02-20</td>\n",
       "      <td>43.880001</td>\n",
       "      <td>44.340000</td>\n",
       "      <td>43.400002</td>\n",
       "      <td>43.540001</td>\n",
       "      <td>43.540001</td>\n",
       "      <td>109316300</td>\n",
       "    </tr>\n",
       "    <tr>\n",
       "      <td>248</td>\n",
       "      <td>2020-02-21</td>\n",
       "      <td>43.439999</td>\n",
       "      <td>43.529999</td>\n",
       "      <td>43.230000</td>\n",
       "      <td>43.290001</td>\n",
       "      <td>43.290001</td>\n",
       "      <td>70553100</td>\n",
       "    </tr>\n",
       "    <tr>\n",
       "      <td>249</td>\n",
       "      <td>2020-02-24</td>\n",
       "      <td>41.459999</td>\n",
       "      <td>41.910000</td>\n",
       "      <td>41.430000</td>\n",
       "      <td>41.669998</td>\n",
       "      <td>41.669998</td>\n",
       "      <td>101505600</td>\n",
       "    </tr>\n",
       "    <tr>\n",
       "      <td>250</td>\n",
       "      <td>2020-02-25</td>\n",
       "      <td>42.279999</td>\n",
       "      <td>42.349998</td>\n",
       "      <td>41.340000</td>\n",
       "      <td>41.340000</td>\n",
       "      <td>41.340000</td>\n",
       "      <td>118601100</td>\n",
       "    </tr>\n",
       "    <tr>\n",
       "      <td>251</td>\n",
       "      <td>2020-02-26</td>\n",
       "      <td>41.830002</td>\n",
       "      <td>42.240002</td>\n",
       "      <td>41.639999</td>\n",
       "      <td>41.669998</td>\n",
       "      <td>41.669998</td>\n",
       "      <td>109411100</td>\n",
       "    </tr>\n",
       "  </tbody>\n",
       "</table>\n",
       "<p>252 rows × 7 columns</p>\n",
       "</div>"
      ],
      "text/plain": [
       "           Date       Open       High        Low      Close  Adj Close  \\\n",
       "0    2019-02-27  43.090000  43.160000  42.849998  43.000000  41.782124   \n",
       "1    2019-02-28  42.720001  42.740002  42.439999  42.439999  41.237984   \n",
       "2    2019-03-01  42.779999  42.810001  42.410000  42.490002  41.286568   \n",
       "3    2019-03-04  42.720001  42.779999  42.180000  42.549999  41.344868   \n",
       "4    2019-03-05  42.750000  43.040001  42.660000  42.970001  41.752975   \n",
       "..          ...        ...        ...        ...        ...        ...   \n",
       "247  2020-02-20  43.880001  44.340000  43.400002  43.540001  43.540001   \n",
       "248  2020-02-21  43.439999  43.529999  43.230000  43.290001  43.290001   \n",
       "249  2020-02-24  41.459999  41.910000  41.430000  41.669998  41.669998   \n",
       "250  2020-02-25  42.279999  42.349998  41.340000  41.340000  41.340000   \n",
       "251  2020-02-26  41.830002  42.240002  41.639999  41.669998  41.669998   \n",
       "\n",
       "        Volume  \n",
       "0     69471200  \n",
       "1     87434700  \n",
       "2     94263900  \n",
       "3     94168300  \n",
       "4     54576700  \n",
       "..         ...  \n",
       "247  109316300  \n",
       "248   70553100  \n",
       "249  101505600  \n",
       "250  118601100  \n",
       "251  109411100  \n",
       "\n",
       "[252 rows x 7 columns]"
      ]
     },
     "execution_count": 1,
     "metadata": {},
     "output_type": "execute_result"
    }
   ],
   "source": [
    "import pandas as pd\n",
    "pd.read_csv(\"EEM.csv\")"
   ]
  },
  {
   "cell_type": "code",
   "execution_count": 2,
   "metadata": {},
   "outputs": [
    {
     "data": {
      "text/plain": [
       "23255.81395348837"
      ]
     },
     "execution_count": 2,
     "metadata": {},
     "output_type": "execute_result"
    }
   ],
   "source": [
    "1000000/43.000000"
   ]
  },
  {
   "cell_type": "code",
   "execution_count": 3,
   "metadata": {},
   "outputs": [
    {
     "data": {
      "text/plain": [
       "34.99999999991"
      ]
     },
     "execution_count": 3,
     "metadata": {},
     "output_type": "execute_result"
    }
   ],
   "source": [
    ".81395348837*43.000000"
   ]
  },
  {
   "cell_type": "code",
   "execution_count": 4,
   "metadata": {},
   "outputs": [],
   "source": [
    "# 23255 shares of EEM bought on 2019-02-27 with $34.99999999991 remaining."
   ]
  },
  {
   "cell_type": "code",
   "execution_count": 5,
   "metadata": {},
   "outputs": [
    {
     "data": {
      "text/plain": [
       "969070.8034899998"
      ]
     },
     "execution_count": 5,
     "metadata": {},
     "output_type": "execute_result"
    }
   ],
   "source": [
    "23255*41.669998+34.99999999991"
   ]
  },
  {
   "cell_type": "code",
   "execution_count": null,
   "metadata": {},
   "outputs": [],
   "source": [
    "# 969070.80 after selling on 2020-02-26"
   ]
  }
 ],
 "metadata": {
  "kernelspec": {
   "display_name": "Python 3",
   "language": "python",
   "name": "python3"
  },
  "language_info": {
   "codemirror_mode": {
    "name": "ipython",
    "version": 3
   },
   "file_extension": ".py",
   "mimetype": "text/x-python",
   "name": "python",
   "nbconvert_exporter": "python",
   "pygments_lexer": "ipython3",
   "version": "3.7.4"
  }
 },
 "nbformat": 4,
 "nbformat_minor": 2
}
