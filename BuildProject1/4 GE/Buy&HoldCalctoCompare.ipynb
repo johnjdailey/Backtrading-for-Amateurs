{
 "cells": [
  {
   "cell_type": "code",
   "execution_count": 1,
   "metadata": {},
   "outputs": [
    {
     "data": {
      "text/html": [
       "<div>\n",
       "<style scoped>\n",
       "    .dataframe tbody tr th:only-of-type {\n",
       "        vertical-align: middle;\n",
       "    }\n",
       "\n",
       "    .dataframe tbody tr th {\n",
       "        vertical-align: top;\n",
       "    }\n",
       "\n",
       "    .dataframe thead th {\n",
       "        text-align: right;\n",
       "    }\n",
       "</style>\n",
       "<table border=\"1\" class=\"dataframe\">\n",
       "  <thead>\n",
       "    <tr style=\"text-align: right;\">\n",
       "      <th></th>\n",
       "      <th>Date</th>\n",
       "      <th>Open</th>\n",
       "      <th>High</th>\n",
       "      <th>Low</th>\n",
       "      <th>Close</th>\n",
       "      <th>Adj Close</th>\n",
       "      <th>Volume</th>\n",
       "    </tr>\n",
       "  </thead>\n",
       "  <tbody>\n",
       "    <tr>\n",
       "      <td>0</td>\n",
       "      <td>2019-02-27</td>\n",
       "      <td>10.83</td>\n",
       "      <td>10.93</td>\n",
       "      <td>10.64</td>\n",
       "      <td>10.88</td>\n",
       "      <td>10.836486</td>\n",
       "      <td>108833400</td>\n",
       "    </tr>\n",
       "    <tr>\n",
       "      <td>1</td>\n",
       "      <td>2019-02-28</td>\n",
       "      <td>10.82</td>\n",
       "      <td>10.85</td>\n",
       "      <td>10.33</td>\n",
       "      <td>10.39</td>\n",
       "      <td>10.348446</td>\n",
       "      <td>90862100</td>\n",
       "    </tr>\n",
       "    <tr>\n",
       "      <td>2</td>\n",
       "      <td>2019-03-01</td>\n",
       "      <td>10.45</td>\n",
       "      <td>10.52</td>\n",
       "      <td>10.05</td>\n",
       "      <td>10.27</td>\n",
       "      <td>10.228926</td>\n",
       "      <td>89000200</td>\n",
       "    </tr>\n",
       "    <tr>\n",
       "      <td>3</td>\n",
       "      <td>2019-03-04</td>\n",
       "      <td>10.32</td>\n",
       "      <td>10.52</td>\n",
       "      <td>10.22</td>\n",
       "      <td>10.38</td>\n",
       "      <td>10.338485</td>\n",
       "      <td>69762900</td>\n",
       "    </tr>\n",
       "    <tr>\n",
       "      <td>4</td>\n",
       "      <td>2019-03-05</td>\n",
       "      <td>10.38</td>\n",
       "      <td>10.57</td>\n",
       "      <td>9.58</td>\n",
       "      <td>9.89</td>\n",
       "      <td>9.850446</td>\n",
       "      <td>178783600</td>\n",
       "    </tr>\n",
       "    <tr>\n",
       "      <td>...</td>\n",
       "      <td>...</td>\n",
       "      <td>...</td>\n",
       "      <td>...</td>\n",
       "      <td>...</td>\n",
       "      <td>...</td>\n",
       "      <td>...</td>\n",
       "      <td>...</td>\n",
       "    </tr>\n",
       "    <tr>\n",
       "      <td>247</td>\n",
       "      <td>2020-02-20</td>\n",
       "      <td>12.65</td>\n",
       "      <td>12.68</td>\n",
       "      <td>12.41</td>\n",
       "      <td>12.53</td>\n",
       "      <td>12.530000</td>\n",
       "      <td>39561900</td>\n",
       "    </tr>\n",
       "    <tr>\n",
       "      <td>248</td>\n",
       "      <td>2020-02-21</td>\n",
       "      <td>12.45</td>\n",
       "      <td>12.46</td>\n",
       "      <td>12.22</td>\n",
       "      <td>12.25</td>\n",
       "      <td>12.250000</td>\n",
       "      <td>42921200</td>\n",
       "    </tr>\n",
       "    <tr>\n",
       "      <td>249</td>\n",
       "      <td>2020-02-24</td>\n",
       "      <td>11.69</td>\n",
       "      <td>12.06</td>\n",
       "      <td>11.60</td>\n",
       "      <td>11.86</td>\n",
       "      <td>11.860000</td>\n",
       "      <td>70978000</td>\n",
       "    </tr>\n",
       "    <tr>\n",
       "      <td>250</td>\n",
       "      <td>2020-02-25</td>\n",
       "      <td>11.97</td>\n",
       "      <td>12.00</td>\n",
       "      <td>11.18</td>\n",
       "      <td>11.32</td>\n",
       "      <td>11.320000</td>\n",
       "      <td>81087400</td>\n",
       "    </tr>\n",
       "    <tr>\n",
       "      <td>251</td>\n",
       "      <td>2020-02-26</td>\n",
       "      <td>11.37</td>\n",
       "      <td>11.54</td>\n",
       "      <td>10.80</td>\n",
       "      <td>10.95</td>\n",
       "      <td>10.950000</td>\n",
       "      <td>93118000</td>\n",
       "    </tr>\n",
       "  </tbody>\n",
       "</table>\n",
       "<p>252 rows × 7 columns</p>\n",
       "</div>"
      ],
      "text/plain": [
       "           Date   Open   High    Low  Close  Adj Close     Volume\n",
       "0    2019-02-27  10.83  10.93  10.64  10.88  10.836486  108833400\n",
       "1    2019-02-28  10.82  10.85  10.33  10.39  10.348446   90862100\n",
       "2    2019-03-01  10.45  10.52  10.05  10.27  10.228926   89000200\n",
       "3    2019-03-04  10.32  10.52  10.22  10.38  10.338485   69762900\n",
       "4    2019-03-05  10.38  10.57   9.58   9.89   9.850446  178783600\n",
       "..          ...    ...    ...    ...    ...        ...        ...\n",
       "247  2020-02-20  12.65  12.68  12.41  12.53  12.530000   39561900\n",
       "248  2020-02-21  12.45  12.46  12.22  12.25  12.250000   42921200\n",
       "249  2020-02-24  11.69  12.06  11.60  11.86  11.860000   70978000\n",
       "250  2020-02-25  11.97  12.00  11.18  11.32  11.320000   81087400\n",
       "251  2020-02-26  11.37  11.54  10.80  10.95  10.950000   93118000\n",
       "\n",
       "[252 rows x 7 columns]"
      ]
     },
     "execution_count": 1,
     "metadata": {},
     "output_type": "execute_result"
    }
   ],
   "source": [
    "import pandas as pd\n",
    "pd.read_csv(\"GE.csv\")"
   ]
  },
  {
   "cell_type": "code",
   "execution_count": 2,
   "metadata": {},
   "outputs": [
    {
     "data": {
      "text/plain": [
       "91911.76470588235"
      ]
     },
     "execution_count": 2,
     "metadata": {},
     "output_type": "execute_result"
    }
   ],
   "source": [
    "1000000/10.88"
   ]
  },
  {
   "cell_type": "code",
   "execution_count": 3,
   "metadata": {},
   "outputs": [
    {
     "data": {
      "text/plain": [
       "8.319999999968001"
      ]
     },
     "execution_count": 3,
     "metadata": {},
     "output_type": "execute_result"
    }
   ],
   "source": [
    ".76470588235*10.88"
   ]
  },
  {
   "cell_type": "code",
   "execution_count": 4,
   "metadata": {},
   "outputs": [],
   "source": [
    "# 91911 shares of GE bought on 2019-02-27 with $8.319999999968001 remaining"
   ]
  },
  {
   "cell_type": "code",
   "execution_count": 5,
   "metadata": {},
   "outputs": [
    {
     "data": {
      "text/plain": [
       "1006433.7699999999"
      ]
     },
     "execution_count": 5,
     "metadata": {},
     "output_type": "execute_result"
    }
   ],
   "source": [
    "91911*10.95+8.319999999968001"
   ]
  },
  {
   "cell_type": "code",
   "execution_count": null,
   "metadata": {},
   "outputs": [],
   "source": [
    "# 1006433.76 after selling on 2020-02-26"
   ]
  }
 ],
 "metadata": {
  "kernelspec": {
   "display_name": "Python 3",
   "language": "python",
   "name": "python3"
  },
  "language_info": {
   "codemirror_mode": {
    "name": "ipython",
    "version": 3
   },
   "file_extension": ".py",
   "mimetype": "text/x-python",
   "name": "python",
   "nbconvert_exporter": "python",
   "pygments_lexer": "ipython3",
   "version": "3.7.4"
  }
 },
 "nbformat": 4,
 "nbformat_minor": 2
}
