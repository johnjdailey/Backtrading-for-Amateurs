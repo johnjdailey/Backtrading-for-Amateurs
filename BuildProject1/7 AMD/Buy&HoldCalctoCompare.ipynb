{
 "cells": [
  {
   "cell_type": "code",
   "execution_count": 1,
   "metadata": {},
   "outputs": [
    {
     "data": {
      "text/html": [
       "<div>\n",
       "<style scoped>\n",
       "    .dataframe tbody tr th:only-of-type {\n",
       "        vertical-align: middle;\n",
       "    }\n",
       "\n",
       "    .dataframe tbody tr th {\n",
       "        vertical-align: top;\n",
       "    }\n",
       "\n",
       "    .dataframe thead th {\n",
       "        text-align: right;\n",
       "    }\n",
       "</style>\n",
       "<table border=\"1\" class=\"dataframe\">\n",
       "  <thead>\n",
       "    <tr style=\"text-align: right;\">\n",
       "      <th></th>\n",
       "      <th>Date</th>\n",
       "      <th>Open</th>\n",
       "      <th>High</th>\n",
       "      <th>Low</th>\n",
       "      <th>Close</th>\n",
       "      <th>Adj Close</th>\n",
       "      <th>Volume</th>\n",
       "    </tr>\n",
       "  </thead>\n",
       "  <tbody>\n",
       "    <tr>\n",
       "      <td>0</td>\n",
       "      <td>2019-02-27</td>\n",
       "      <td>24.110001</td>\n",
       "      <td>24.230000</td>\n",
       "      <td>23.209999</td>\n",
       "      <td>23.480000</td>\n",
       "      <td>23.480000</td>\n",
       "      <td>62649300</td>\n",
       "    </tr>\n",
       "    <tr>\n",
       "      <td>1</td>\n",
       "      <td>2019-02-28</td>\n",
       "      <td>23.209999</td>\n",
       "      <td>23.670000</td>\n",
       "      <td>23.110001</td>\n",
       "      <td>23.530001</td>\n",
       "      <td>23.530001</td>\n",
       "      <td>39384900</td>\n",
       "    </tr>\n",
       "    <tr>\n",
       "      <td>2</td>\n",
       "      <td>2019-03-01</td>\n",
       "      <td>23.969999</td>\n",
       "      <td>24.190001</td>\n",
       "      <td>23.450001</td>\n",
       "      <td>23.680000</td>\n",
       "      <td>23.680000</td>\n",
       "      <td>48084000</td>\n",
       "    </tr>\n",
       "    <tr>\n",
       "      <td>3</td>\n",
       "      <td>2019-03-04</td>\n",
       "      <td>23.889999</td>\n",
       "      <td>24.129999</td>\n",
       "      <td>23.010000</td>\n",
       "      <td>23.370001</td>\n",
       "      <td>23.370001</td>\n",
       "      <td>48147700</td>\n",
       "    </tr>\n",
       "    <tr>\n",
       "      <td>4</td>\n",
       "      <td>2019-03-05</td>\n",
       "      <td>23.340000</td>\n",
       "      <td>23.680000</td>\n",
       "      <td>23.010000</td>\n",
       "      <td>23.500000</td>\n",
       "      <td>23.500000</td>\n",
       "      <td>35462600</td>\n",
       "    </tr>\n",
       "    <tr>\n",
       "      <td>...</td>\n",
       "      <td>...</td>\n",
       "      <td>...</td>\n",
       "      <td>...</td>\n",
       "      <td>...</td>\n",
       "      <td>...</td>\n",
       "      <td>...</td>\n",
       "      <td>...</td>\n",
       "    </tr>\n",
       "    <tr>\n",
       "      <td>247</td>\n",
       "      <td>2020-02-20</td>\n",
       "      <td>58.439999</td>\n",
       "      <td>59.020000</td>\n",
       "      <td>56.150002</td>\n",
       "      <td>57.270000</td>\n",
       "      <td>57.270000</td>\n",
       "      <td>74203400</td>\n",
       "    </tr>\n",
       "    <tr>\n",
       "      <td>248</td>\n",
       "      <td>2020-02-21</td>\n",
       "      <td>56.709999</td>\n",
       "      <td>56.799999</td>\n",
       "      <td>52.889999</td>\n",
       "      <td>53.279999</td>\n",
       "      <td>53.279999</td>\n",
       "      <td>88271100</td>\n",
       "    </tr>\n",
       "    <tr>\n",
       "      <td>249</td>\n",
       "      <td>2020-02-24</td>\n",
       "      <td>48.180000</td>\n",
       "      <td>50.279999</td>\n",
       "      <td>47.490002</td>\n",
       "      <td>49.119999</td>\n",
       "      <td>49.119999</td>\n",
       "      <td>86624100</td>\n",
       "    </tr>\n",
       "    <tr>\n",
       "      <td>250</td>\n",
       "      <td>2020-02-25</td>\n",
       "      <td>51.139999</td>\n",
       "      <td>51.240002</td>\n",
       "      <td>47.119999</td>\n",
       "      <td>47.570000</td>\n",
       "      <td>47.570000</td>\n",
       "      <td>88699400</td>\n",
       "    </tr>\n",
       "    <tr>\n",
       "      <td>251</td>\n",
       "      <td>2020-02-26</td>\n",
       "      <td>47.700001</td>\n",
       "      <td>49.290001</td>\n",
       "      <td>47.070000</td>\n",
       "      <td>47.490002</td>\n",
       "      <td>47.490002</td>\n",
       "      <td>86378400</td>\n",
       "    </tr>\n",
       "  </tbody>\n",
       "</table>\n",
       "<p>252 rows × 7 columns</p>\n",
       "</div>"
      ],
      "text/plain": [
       "           Date       Open       High        Low      Close  Adj Close  \\\n",
       "0    2019-02-27  24.110001  24.230000  23.209999  23.480000  23.480000   \n",
       "1    2019-02-28  23.209999  23.670000  23.110001  23.530001  23.530001   \n",
       "2    2019-03-01  23.969999  24.190001  23.450001  23.680000  23.680000   \n",
       "3    2019-03-04  23.889999  24.129999  23.010000  23.370001  23.370001   \n",
       "4    2019-03-05  23.340000  23.680000  23.010000  23.500000  23.500000   \n",
       "..          ...        ...        ...        ...        ...        ...   \n",
       "247  2020-02-20  58.439999  59.020000  56.150002  57.270000  57.270000   \n",
       "248  2020-02-21  56.709999  56.799999  52.889999  53.279999  53.279999   \n",
       "249  2020-02-24  48.180000  50.279999  47.490002  49.119999  49.119999   \n",
       "250  2020-02-25  51.139999  51.240002  47.119999  47.570000  47.570000   \n",
       "251  2020-02-26  47.700001  49.290001  47.070000  47.490002  47.490002   \n",
       "\n",
       "       Volume  \n",
       "0    62649300  \n",
       "1    39384900  \n",
       "2    48084000  \n",
       "3    48147700  \n",
       "4    35462600  \n",
       "..        ...  \n",
       "247  74203400  \n",
       "248  88271100  \n",
       "249  86624100  \n",
       "250  88699400  \n",
       "251  86378400  \n",
       "\n",
       "[252 rows x 7 columns]"
      ]
     },
     "execution_count": 1,
     "metadata": {},
     "output_type": "execute_result"
    }
   ],
   "source": [
    "import pandas as pd\n",
    "pd.read_csv(\"AMD.csv\")"
   ]
  },
  {
   "cell_type": "code",
   "execution_count": 2,
   "metadata": {},
   "outputs": [
    {
     "data": {
      "text/plain": [
       "42589.43781942078"
      ]
     },
     "execution_count": 2,
     "metadata": {},
     "output_type": "execute_result"
    }
   ],
   "source": [
    "1000000/23.480000"
   ]
  },
  {
   "cell_type": "code",
   "execution_count": 3,
   "metadata": {},
   "outputs": [
    {
     "data": {
      "text/plain": [
       "10.2799999999144"
      ]
     },
     "execution_count": 3,
     "metadata": {},
     "output_type": "execute_result"
    }
   ],
   "source": [
    ".43781942078*23.480000"
   ]
  },
  {
   "cell_type": "code",
   "execution_count": 4,
   "metadata": {},
   "outputs": [],
   "source": [
    "#42589 shares of AMD bought on 2019-02-27 with $10.2799999999144 remaining"
   ]
  },
  {
   "cell_type": "code",
   "execution_count": 5,
   "metadata": {},
   "outputs": [
    {
     "data": {
      "text/plain": [
       "2022561.9751779998"
      ]
     },
     "execution_count": 5,
     "metadata": {},
     "output_type": "execute_result"
    }
   ],
   "source": [
    "42589*47.490002+10.2799999999144"
   ]
  },
  {
   "cell_type": "code",
   "execution_count": null,
   "metadata": {},
   "outputs": [],
   "source": [
    "# 2022561 after selling on 2020-02-26"
   ]
  }
 ],
 "metadata": {
  "kernelspec": {
   "display_name": "Python 3",
   "language": "python",
   "name": "python3"
  },
  "language_info": {
   "codemirror_mode": {
    "name": "ipython",
    "version": 3
   },
   "file_extension": ".py",
   "mimetype": "text/x-python",
   "name": "python",
   "nbconvert_exporter": "python",
   "pygments_lexer": "ipython3",
   "version": "3.7.4"
  }
 },
 "nbformat": 4,
 "nbformat_minor": 2
}
