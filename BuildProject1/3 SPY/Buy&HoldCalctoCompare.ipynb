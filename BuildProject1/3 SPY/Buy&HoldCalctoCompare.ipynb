{
 "cells": [
  {
   "cell_type": "code",
   "execution_count": 1,
   "metadata": {},
   "outputs": [
    {
     "data": {
      "text/html": [
       "<div>\n",
       "<style scoped>\n",
       "    .dataframe tbody tr th:only-of-type {\n",
       "        vertical-align: middle;\n",
       "    }\n",
       "\n",
       "    .dataframe tbody tr th {\n",
       "        vertical-align: top;\n",
       "    }\n",
       "\n",
       "    .dataframe thead th {\n",
       "        text-align: right;\n",
       "    }\n",
       "</style>\n",
       "<table border=\"1\" class=\"dataframe\">\n",
       "  <thead>\n",
       "    <tr style=\"text-align: right;\">\n",
       "      <th></th>\n",
       "      <th>Date</th>\n",
       "      <th>Open</th>\n",
       "      <th>High</th>\n",
       "      <th>Low</th>\n",
       "      <th>Close</th>\n",
       "      <th>Adj Close</th>\n",
       "      <th>Volume</th>\n",
       "    </tr>\n",
       "  </thead>\n",
       "  <tbody>\n",
       "    <tr>\n",
       "      <td>0</td>\n",
       "      <td>2019-02-27</td>\n",
       "      <td>278.519989</td>\n",
       "      <td>279.589996</td>\n",
       "      <td>277.480011</td>\n",
       "      <td>279.200012</td>\n",
       "      <td>274.011383</td>\n",
       "      <td>56921600</td>\n",
       "    </tr>\n",
       "    <tr>\n",
       "      <td>1</td>\n",
       "      <td>2019-02-28</td>\n",
       "      <td>278.959991</td>\n",
       "      <td>279.450012</td>\n",
       "      <td>278.320007</td>\n",
       "      <td>278.679993</td>\n",
       "      <td>273.501007</td>\n",
       "      <td>69268300</td>\n",
       "    </tr>\n",
       "    <tr>\n",
       "      <td>2</td>\n",
       "      <td>2019-03-01</td>\n",
       "      <td>280.440002</td>\n",
       "      <td>280.880005</td>\n",
       "      <td>278.820007</td>\n",
       "      <td>280.420013</td>\n",
       "      <td>275.208740</td>\n",
       "      <td>78880500</td>\n",
       "    </tr>\n",
       "    <tr>\n",
       "      <td>3</td>\n",
       "      <td>2019-03-04</td>\n",
       "      <td>281.600006</td>\n",
       "      <td>281.869995</td>\n",
       "      <td>276.839996</td>\n",
       "      <td>279.399994</td>\n",
       "      <td>274.207642</td>\n",
       "      <td>106494600</td>\n",
       "    </tr>\n",
       "    <tr>\n",
       "      <td>4</td>\n",
       "      <td>2019-03-05</td>\n",
       "      <td>279.540009</td>\n",
       "      <td>279.760010</td>\n",
       "      <td>278.410004</td>\n",
       "      <td>279.019989</td>\n",
       "      <td>273.834717</td>\n",
       "      <td>59114600</td>\n",
       "    </tr>\n",
       "    <tr>\n",
       "      <td>...</td>\n",
       "      <td>...</td>\n",
       "      <td>...</td>\n",
       "      <td>...</td>\n",
       "      <td>...</td>\n",
       "      <td>...</td>\n",
       "      <td>...</td>\n",
       "      <td>...</td>\n",
       "    </tr>\n",
       "    <tr>\n",
       "      <td>247</td>\n",
       "      <td>2020-02-20</td>\n",
       "      <td>337.739990</td>\n",
       "      <td>338.640015</td>\n",
       "      <td>333.679993</td>\n",
       "      <td>336.950012</td>\n",
       "      <td>336.950012</td>\n",
       "      <td>74163400</td>\n",
       "    </tr>\n",
       "    <tr>\n",
       "      <td>248</td>\n",
       "      <td>2020-02-21</td>\n",
       "      <td>335.470001</td>\n",
       "      <td>335.809998</td>\n",
       "      <td>332.579987</td>\n",
       "      <td>333.480011</td>\n",
       "      <td>333.480011</td>\n",
       "      <td>113788200</td>\n",
       "    </tr>\n",
       "    <tr>\n",
       "      <td>249</td>\n",
       "      <td>2020-02-24</td>\n",
       "      <td>323.140015</td>\n",
       "      <td>333.559998</td>\n",
       "      <td>321.239990</td>\n",
       "      <td>322.420013</td>\n",
       "      <td>322.420013</td>\n",
       "      <td>161088400</td>\n",
       "    </tr>\n",
       "    <tr>\n",
       "      <td>250</td>\n",
       "      <td>2020-02-25</td>\n",
       "      <td>323.940002</td>\n",
       "      <td>324.609985</td>\n",
       "      <td>311.690002</td>\n",
       "      <td>312.649994</td>\n",
       "      <td>312.649994</td>\n",
       "      <td>218913200</td>\n",
       "    </tr>\n",
       "    <tr>\n",
       "      <td>251</td>\n",
       "      <td>2020-02-26</td>\n",
       "      <td>314.179993</td>\n",
       "      <td>318.109985</td>\n",
       "      <td>310.700012</td>\n",
       "      <td>311.500000</td>\n",
       "      <td>311.500000</td>\n",
       "      <td>193196100</td>\n",
       "    </tr>\n",
       "  </tbody>\n",
       "</table>\n",
       "<p>252 rows × 7 columns</p>\n",
       "</div>"
      ],
      "text/plain": [
       "           Date        Open        High         Low       Close   Adj Close  \\\n",
       "0    2019-02-27  278.519989  279.589996  277.480011  279.200012  274.011383   \n",
       "1    2019-02-28  278.959991  279.450012  278.320007  278.679993  273.501007   \n",
       "2    2019-03-01  280.440002  280.880005  278.820007  280.420013  275.208740   \n",
       "3    2019-03-04  281.600006  281.869995  276.839996  279.399994  274.207642   \n",
       "4    2019-03-05  279.540009  279.760010  278.410004  279.019989  273.834717   \n",
       "..          ...         ...         ...         ...         ...         ...   \n",
       "247  2020-02-20  337.739990  338.640015  333.679993  336.950012  336.950012   \n",
       "248  2020-02-21  335.470001  335.809998  332.579987  333.480011  333.480011   \n",
       "249  2020-02-24  323.140015  333.559998  321.239990  322.420013  322.420013   \n",
       "250  2020-02-25  323.940002  324.609985  311.690002  312.649994  312.649994   \n",
       "251  2020-02-26  314.179993  318.109985  310.700012  311.500000  311.500000   \n",
       "\n",
       "        Volume  \n",
       "0     56921600  \n",
       "1     69268300  \n",
       "2     78880500  \n",
       "3    106494600  \n",
       "4     59114600  \n",
       "..         ...  \n",
       "247   74163400  \n",
       "248  113788200  \n",
       "249  161088400  \n",
       "250  218913200  \n",
       "251  193196100  \n",
       "\n",
       "[252 rows x 7 columns]"
      ]
     },
     "execution_count": 1,
     "metadata": {},
     "output_type": "execute_result"
    }
   ],
   "source": [
    "import pandas as pd\n",
    "pd.read_csv(\"SPY.csv\")"
   ]
  },
  {
   "cell_type": "code",
   "execution_count": 2,
   "metadata": {},
   "outputs": [
    {
     "data": {
      "text/plain": [
       "3581.661737177862"
      ]
     },
     "execution_count": 2,
     "metadata": {},
     "output_type": "execute_result"
    }
   ],
   "source": [
    "1000000/279.200012"
   ]
  },
  {
   "cell_type": "code",
   "execution_count": 3,
   "metadata": {},
   "outputs": [
    {
     "data": {
      "text/plain": [
       "184.75702799991655"
      ]
     },
     "execution_count": 3,
     "metadata": {},
     "output_type": "execute_result"
    }
   ],
   "source": [
    ".661737177862 * 279.200012"
   ]
  },
  {
   "cell_type": "code",
   "execution_count": 4,
   "metadata": {},
   "outputs": [],
   "source": [
    "# 3581 shares of SPY bought on 2019-02-27 with $184.75702799991655 remaining"
   ]
  },
  {
   "cell_type": "code",
   "execution_count": 5,
   "metadata": {},
   "outputs": [
    {
     "data": {
      "text/plain": [
       "1115666.257028"
      ]
     },
     "execution_count": 5,
     "metadata": {},
     "output_type": "execute_result"
    }
   ],
   "source": [
    "3581*311.500000 + 184.75702799991655"
   ]
  },
  {
   "cell_type": "code",
   "execution_count": null,
   "metadata": {},
   "outputs": [],
   "source": [
    "# 1115666.25702 after selling on 2020-02-26"
   ]
  }
 ],
 "metadata": {
  "kernelspec": {
   "display_name": "Python 3",
   "language": "python",
   "name": "python3"
  },
  "language_info": {
   "codemirror_mode": {
    "name": "ipython",
    "version": 3
   },
   "file_extension": ".py",
   "mimetype": "text/x-python",
   "name": "python",
   "nbconvert_exporter": "python",
   "pygments_lexer": "ipython3",
   "version": "3.7.4"
  }
 },
 "nbformat": 4,
 "nbformat_minor": 2
}
