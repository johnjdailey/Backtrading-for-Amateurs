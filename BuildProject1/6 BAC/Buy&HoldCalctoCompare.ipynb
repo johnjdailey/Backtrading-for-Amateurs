{
 "cells": [
  {
   "cell_type": "code",
   "execution_count": 1,
   "metadata": {},
   "outputs": [
    {
     "data": {
      "text/html": [
       "<div>\n",
       "<style scoped>\n",
       "    .dataframe tbody tr th:only-of-type {\n",
       "        vertical-align: middle;\n",
       "    }\n",
       "\n",
       "    .dataframe tbody tr th {\n",
       "        vertical-align: top;\n",
       "    }\n",
       "\n",
       "    .dataframe thead th {\n",
       "        text-align: right;\n",
       "    }\n",
       "</style>\n",
       "<table border=\"1\" class=\"dataframe\">\n",
       "  <thead>\n",
       "    <tr style=\"text-align: right;\">\n",
       "      <th></th>\n",
       "      <th>Date</th>\n",
       "      <th>Open</th>\n",
       "      <th>High</th>\n",
       "      <th>Low</th>\n",
       "      <th>Close</th>\n",
       "      <th>Adj Close</th>\n",
       "      <th>Volume</th>\n",
       "    </tr>\n",
       "  </thead>\n",
       "  <tbody>\n",
       "    <tr>\n",
       "      <td>0</td>\n",
       "      <td>2019-02-27</td>\n",
       "      <td>29.299999</td>\n",
       "      <td>29.670000</td>\n",
       "      <td>29.209999</td>\n",
       "      <td>29.530001</td>\n",
       "      <td>28.873125</td>\n",
       "      <td>48128600</td>\n",
       "    </tr>\n",
       "    <tr>\n",
       "      <td>1</td>\n",
       "      <td>2019-02-28</td>\n",
       "      <td>29.500000</td>\n",
       "      <td>29.549999</td>\n",
       "      <td>29.010000</td>\n",
       "      <td>29.080000</td>\n",
       "      <td>28.578300</td>\n",
       "      <td>62358100</td>\n",
       "    </tr>\n",
       "    <tr>\n",
       "      <td>2</td>\n",
       "      <td>2019-03-01</td>\n",
       "      <td>29.330000</td>\n",
       "      <td>29.650000</td>\n",
       "      <td>29.209999</td>\n",
       "      <td>29.309999</td>\n",
       "      <td>28.804333</td>\n",
       "      <td>45771500</td>\n",
       "    </tr>\n",
       "    <tr>\n",
       "      <td>3</td>\n",
       "      <td>2019-03-04</td>\n",
       "      <td>29.330000</td>\n",
       "      <td>29.540001</td>\n",
       "      <td>28.770000</td>\n",
       "      <td>29.030001</td>\n",
       "      <td>28.529165</td>\n",
       "      <td>56893200</td>\n",
       "    </tr>\n",
       "    <tr>\n",
       "      <td>4</td>\n",
       "      <td>2019-03-05</td>\n",
       "      <td>29.020000</td>\n",
       "      <td>29.190001</td>\n",
       "      <td>28.700001</td>\n",
       "      <td>29.080000</td>\n",
       "      <td>28.578300</td>\n",
       "      <td>39932500</td>\n",
       "    </tr>\n",
       "    <tr>\n",
       "      <td>...</td>\n",
       "      <td>...</td>\n",
       "      <td>...</td>\n",
       "      <td>...</td>\n",
       "      <td>...</td>\n",
       "      <td>...</td>\n",
       "      <td>...</td>\n",
       "      <td>...</td>\n",
       "    </tr>\n",
       "    <tr>\n",
       "      <td>247</td>\n",
       "      <td>2020-02-20</td>\n",
       "      <td>34.459999</td>\n",
       "      <td>35.080002</td>\n",
       "      <td>34.459999</td>\n",
       "      <td>34.849998</td>\n",
       "      <td>34.849998</td>\n",
       "      <td>42604100</td>\n",
       "    </tr>\n",
       "    <tr>\n",
       "      <td>248</td>\n",
       "      <td>2020-02-21</td>\n",
       "      <td>34.529999</td>\n",
       "      <td>34.639999</td>\n",
       "      <td>34.139999</td>\n",
       "      <td>34.360001</td>\n",
       "      <td>34.360001</td>\n",
       "      <td>46675500</td>\n",
       "    </tr>\n",
       "    <tr>\n",
       "      <td>249</td>\n",
       "      <td>2020-02-24</td>\n",
       "      <td>33.180000</td>\n",
       "      <td>33.209999</td>\n",
       "      <td>32.520000</td>\n",
       "      <td>32.730000</td>\n",
       "      <td>32.730000</td>\n",
       "      <td>79159600</td>\n",
       "    </tr>\n",
       "    <tr>\n",
       "      <td>250</td>\n",
       "      <td>2020-02-25</td>\n",
       "      <td>32.689999</td>\n",
       "      <td>32.759998</td>\n",
       "      <td>30.840000</td>\n",
       "      <td>31.080000</td>\n",
       "      <td>31.080000</td>\n",
       "      <td>91586800</td>\n",
       "    </tr>\n",
       "    <tr>\n",
       "      <td>251</td>\n",
       "      <td>2020-02-26</td>\n",
       "      <td>31.389999</td>\n",
       "      <td>31.600000</td>\n",
       "      <td>30.559999</td>\n",
       "      <td>30.629999</td>\n",
       "      <td>30.629999</td>\n",
       "      <td>80012800</td>\n",
       "    </tr>\n",
       "  </tbody>\n",
       "</table>\n",
       "<p>252 rows × 7 columns</p>\n",
       "</div>"
      ],
      "text/plain": [
       "           Date       Open       High        Low      Close  Adj Close  \\\n",
       "0    2019-02-27  29.299999  29.670000  29.209999  29.530001  28.873125   \n",
       "1    2019-02-28  29.500000  29.549999  29.010000  29.080000  28.578300   \n",
       "2    2019-03-01  29.330000  29.650000  29.209999  29.309999  28.804333   \n",
       "3    2019-03-04  29.330000  29.540001  28.770000  29.030001  28.529165   \n",
       "4    2019-03-05  29.020000  29.190001  28.700001  29.080000  28.578300   \n",
       "..          ...        ...        ...        ...        ...        ...   \n",
       "247  2020-02-20  34.459999  35.080002  34.459999  34.849998  34.849998   \n",
       "248  2020-02-21  34.529999  34.639999  34.139999  34.360001  34.360001   \n",
       "249  2020-02-24  33.180000  33.209999  32.520000  32.730000  32.730000   \n",
       "250  2020-02-25  32.689999  32.759998  30.840000  31.080000  31.080000   \n",
       "251  2020-02-26  31.389999  31.600000  30.559999  30.629999  30.629999   \n",
       "\n",
       "       Volume  \n",
       "0    48128600  \n",
       "1    62358100  \n",
       "2    45771500  \n",
       "3    56893200  \n",
       "4    39932500  \n",
       "..        ...  \n",
       "247  42604100  \n",
       "248  46675500  \n",
       "249  79159600  \n",
       "250  91586800  \n",
       "251  80012800  \n",
       "\n",
       "[252 rows x 7 columns]"
      ]
     },
     "execution_count": 1,
     "metadata": {},
     "output_type": "execute_result"
    }
   ],
   "source": [
    "import pandas as pd\n",
    "pd.read_csv(\"BAC.csv\")"
   ]
  },
  {
   "cell_type": "code",
   "execution_count": 2,
   "metadata": {},
   "outputs": [
    {
     "data": {
      "text/plain": [
       "33863.8661068789"
      ]
     },
     "execution_count": 2,
     "metadata": {},
     "output_type": "execute_result"
    }
   ],
   "source": [
    "1000000/29.530001"
   ]
  },
  {
   "cell_type": "code",
   "execution_count": 3,
   "metadata": {},
   "outputs": [
    {
     "data": {
      "text/plain": [
       "25.57613700002388"
      ]
     },
     "execution_count": 3,
     "metadata": {},
     "output_type": "execute_result"
    }
   ],
   "source": [
    ".8661068789*29.530001"
   ]
  },
  {
   "cell_type": "code",
   "execution_count": 4,
   "metadata": {},
   "outputs": [],
   "source": [
    "# 33863 shares of BAC bought on 2019-02-27 with $25.57613700002388 remaining"
   ]
  },
  {
   "cell_type": "code",
   "execution_count": 5,
   "metadata": {},
   "outputs": [
    {
     "data": {
      "text/plain": [
       "1037249.2322740001"
      ]
     },
     "execution_count": 5,
     "metadata": {},
     "output_type": "execute_result"
    }
   ],
   "source": [
    "33863*30.629999+25.57613700002388"
   ]
  },
  {
   "cell_type": "code",
   "execution_count": null,
   "metadata": {},
   "outputs": [],
   "source": [
    "# 1037249.23 after selling on 2020-02-26"
   ]
  }
 ],
 "metadata": {
  "kernelspec": {
   "display_name": "Python 3",
   "language": "python",
   "name": "python3"
  },
  "language_info": {
   "codemirror_mode": {
    "name": "ipython",
    "version": 3
   },
   "file_extension": ".py",
   "mimetype": "text/x-python",
   "name": "python",
   "nbconvert_exporter": "python",
   "pygments_lexer": "ipython3",
   "version": "3.7.4"
  }
 },
 "nbformat": 4,
 "nbformat_minor": 2
}
