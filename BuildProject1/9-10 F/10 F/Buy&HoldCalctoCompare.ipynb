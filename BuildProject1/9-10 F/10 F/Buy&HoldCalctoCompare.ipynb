{
 "cells": [
  {
   "cell_type": "code",
   "execution_count": 1,
   "metadata": {},
   "outputs": [
    {
     "data": {
      "text/html": [
       "<div>\n",
       "<style scoped>\n",
       "    .dataframe tbody tr th:only-of-type {\n",
       "        vertical-align: middle;\n",
       "    }\n",
       "\n",
       "    .dataframe tbody tr th {\n",
       "        vertical-align: top;\n",
       "    }\n",
       "\n",
       "    .dataframe thead th {\n",
       "        text-align: right;\n",
       "    }\n",
       "</style>\n",
       "<table border=\"1\" class=\"dataframe\">\n",
       "  <thead>\n",
       "    <tr style=\"text-align: right;\">\n",
       "      <th></th>\n",
       "      <th>Date</th>\n",
       "      <th>Open</th>\n",
       "      <th>High</th>\n",
       "      <th>Low</th>\n",
       "      <th>Close</th>\n",
       "      <th>Adj Close</th>\n",
       "      <th>Volume</th>\n",
       "    </tr>\n",
       "  </thead>\n",
       "  <tbody>\n",
       "    <tr>\n",
       "      <td>0</td>\n",
       "      <td>2019-02-27</td>\n",
       "      <td>8.83</td>\n",
       "      <td>8.91</td>\n",
       "      <td>8.78</td>\n",
       "      <td>8.78</td>\n",
       "      <td>8.236733</td>\n",
       "      <td>34093300</td>\n",
       "    </tr>\n",
       "    <tr>\n",
       "      <td>1</td>\n",
       "      <td>2019-02-28</td>\n",
       "      <td>8.77</td>\n",
       "      <td>8.79</td>\n",
       "      <td>8.60</td>\n",
       "      <td>8.77</td>\n",
       "      <td>8.227353</td>\n",
       "      <td>43960500</td>\n",
       "    </tr>\n",
       "    <tr>\n",
       "      <td>2</td>\n",
       "      <td>2019-03-01</td>\n",
       "      <td>8.85</td>\n",
       "      <td>8.89</td>\n",
       "      <td>8.71</td>\n",
       "      <td>8.79</td>\n",
       "      <td>8.246116</td>\n",
       "      <td>37699500</td>\n",
       "    </tr>\n",
       "    <tr>\n",
       "      <td>3</td>\n",
       "      <td>2019-03-04</td>\n",
       "      <td>8.83</td>\n",
       "      <td>8.97</td>\n",
       "      <td>8.76</td>\n",
       "      <td>8.81</td>\n",
       "      <td>8.264878</td>\n",
       "      <td>46196900</td>\n",
       "    </tr>\n",
       "    <tr>\n",
       "      <td>4</td>\n",
       "      <td>2019-03-05</td>\n",
       "      <td>8.80</td>\n",
       "      <td>8.81</td>\n",
       "      <td>8.70</td>\n",
       "      <td>8.77</td>\n",
       "      <td>8.227353</td>\n",
       "      <td>40852600</td>\n",
       "    </tr>\n",
       "    <tr>\n",
       "      <td>...</td>\n",
       "      <td>...</td>\n",
       "      <td>...</td>\n",
       "      <td>...</td>\n",
       "      <td>...</td>\n",
       "      <td>...</td>\n",
       "      <td>...</td>\n",
       "      <td>...</td>\n",
       "    </tr>\n",
       "    <tr>\n",
       "      <td>247</td>\n",
       "      <td>2020-02-20</td>\n",
       "      <td>8.00</td>\n",
       "      <td>8.07</td>\n",
       "      <td>7.99</td>\n",
       "      <td>8.03</td>\n",
       "      <td>8.030000</td>\n",
       "      <td>52318200</td>\n",
       "    </tr>\n",
       "    <tr>\n",
       "      <td>248</td>\n",
       "      <td>2020-02-21</td>\n",
       "      <td>8.02</td>\n",
       "      <td>8.03</td>\n",
       "      <td>7.89</td>\n",
       "      <td>7.89</td>\n",
       "      <td>7.890000</td>\n",
       "      <td>58326300</td>\n",
       "    </tr>\n",
       "    <tr>\n",
       "      <td>249</td>\n",
       "      <td>2020-02-24</td>\n",
       "      <td>7.70</td>\n",
       "      <td>7.72</td>\n",
       "      <td>7.55</td>\n",
       "      <td>7.57</td>\n",
       "      <td>7.570000</td>\n",
       "      <td>110048200</td>\n",
       "    </tr>\n",
       "    <tr>\n",
       "      <td>250</td>\n",
       "      <td>2020-02-25</td>\n",
       "      <td>7.68</td>\n",
       "      <td>7.68</td>\n",
       "      <td>7.22</td>\n",
       "      <td>7.23</td>\n",
       "      <td>7.230000</td>\n",
       "      <td>108888300</td>\n",
       "    </tr>\n",
       "    <tr>\n",
       "      <td>251</td>\n",
       "      <td>2020-02-26</td>\n",
       "      <td>7.30</td>\n",
       "      <td>7.46</td>\n",
       "      <td>7.21</td>\n",
       "      <td>7.21</td>\n",
       "      <td>7.210000</td>\n",
       "      <td>92469500</td>\n",
       "    </tr>\n",
       "  </tbody>\n",
       "</table>\n",
       "<p>252 rows × 7 columns</p>\n",
       "</div>"
      ],
      "text/plain": [
       "           Date  Open  High   Low  Close  Adj Close     Volume\n",
       "0    2019-02-27  8.83  8.91  8.78   8.78   8.236733   34093300\n",
       "1    2019-02-28  8.77  8.79  8.60   8.77   8.227353   43960500\n",
       "2    2019-03-01  8.85  8.89  8.71   8.79   8.246116   37699500\n",
       "3    2019-03-04  8.83  8.97  8.76   8.81   8.264878   46196900\n",
       "4    2019-03-05  8.80  8.81  8.70   8.77   8.227353   40852600\n",
       "..          ...   ...   ...   ...    ...        ...        ...\n",
       "247  2020-02-20  8.00  8.07  7.99   8.03   8.030000   52318200\n",
       "248  2020-02-21  8.02  8.03  7.89   7.89   7.890000   58326300\n",
       "249  2020-02-24  7.70  7.72  7.55   7.57   7.570000  110048200\n",
       "250  2020-02-25  7.68  7.68  7.22   7.23   7.230000  108888300\n",
       "251  2020-02-26  7.30  7.46  7.21   7.21   7.210000   92469500\n",
       "\n",
       "[252 rows x 7 columns]"
      ]
     },
     "execution_count": 1,
     "metadata": {},
     "output_type": "execute_result"
    }
   ],
   "source": [
    "import pandas as pd\n",
    "pd.read_csv(\"F.csv\")"
   ]
  },
  {
   "cell_type": "code",
   "execution_count": 2,
   "metadata": {},
   "outputs": [
    {
     "data": {
      "text/plain": [
       "113895.21640091117"
      ]
     },
     "execution_count": 2,
     "metadata": {},
     "output_type": "execute_result"
    }
   ],
   "source": [
    "1000000/8.78"
   ]
  },
  {
   "cell_type": "code",
   "execution_count": 3,
   "metadata": {},
   "outputs": [
    {
     "data": {
      "text/plain": [
       "1.9000000000725998"
      ]
     },
     "execution_count": 3,
     "metadata": {},
     "output_type": "execute_result"
    }
   ],
   "source": [
    ".21640091117*8.78"
   ]
  },
  {
   "cell_type": "code",
   "execution_count": 4,
   "metadata": {},
   "outputs": [],
   "source": [
    "# 113895 shares of F bought on 2019-02-27 with $1.9000000000725998 remaining"
   ]
  },
  {
   "cell_type": "code",
   "execution_count": 5,
   "metadata": {},
   "outputs": [
    {
     "data": {
      "text/plain": [
       "821184.85"
      ]
     },
     "execution_count": 5,
     "metadata": {},
     "output_type": "execute_result"
    }
   ],
   "source": [
    "113895*7.21+1.9000000000725998"
   ]
  },
  {
   "cell_type": "code",
   "execution_count": 13,
   "metadata": {},
   "outputs": [],
   "source": [
    "# 821184 after selling on 2020-02-26"
   ]
  },
  {
   "cell_type": "code",
   "execution_count": null,
   "metadata": {},
   "outputs": [],
   "source": []
  },
  {
   "cell_type": "code",
   "execution_count": 7,
   "metadata": {},
   "outputs": [],
   "source": [
    "# Okay, so just these calculations on these 10 stocks took me approximately one hour..."
   ]
  },
  {
   "cell_type": "code",
   "execution_count": 8,
   "metadata": {},
   "outputs": [],
   "source": [
    "# I truly used Jupyter Notebook as a Notebook, to show my work, and to keep my Excel table clean."
   ]
  },
  {
   "cell_type": "code",
   "execution_count": 9,
   "metadata": {},
   "outputs": [],
   "source": [
    "# About halfway through, I realized how powerful writing a function for this would be, then I could plug in"
   ]
  },
  {
   "cell_type": "code",
   "execution_count": 10,
   "metadata": {},
   "outputs": [],
   "source": [
    "# all of the stocks in the world, as long as I have the CSV data in the correct format. Unfortunately my function"
   ]
  },
  {
   "cell_type": "code",
   "execution_count": 11,
   "metadata": {},
   "outputs": [],
   "source": [
    "# writing skills are quite weak at this time, and I am planning to finish this Build Project early so that"
   ]
  },
  {
   "cell_type": "code",
   "execution_count": 12,
   "metadata": {},
   "outputs": [],
   "source": [
    "# I can revisit an earlier assignment. However, I would like to revisit this concept, write a function to do these"
   ]
  },
  {
   "cell_type": "code",
   "execution_count": null,
   "metadata": {},
   "outputs": [],
   "source": [
    "# calculations, and experiment with other backtrading strategies to see if I can create some more profitable."
   ]
  }
 ],
 "metadata": {
  "kernelspec": {
   "display_name": "Python 3",
   "language": "python",
   "name": "python3"
  },
  "language_info": {
   "codemirror_mode": {
    "name": "ipython",
    "version": 3
   },
   "file_extension": ".py",
   "mimetype": "text/x-python",
   "name": "python",
   "nbconvert_exporter": "python",
   "pygments_lexer": "ipython3",
   "version": "3.7.4"
  }
 },
 "nbformat": 4,
 "nbformat_minor": 2
}
